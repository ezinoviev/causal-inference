{
 "cells": [
  {
   "cell_type": "markdown",
   "id": "62e0ea6f",
   "metadata": {},
   "source": [
    "# Causal Inference in Decision Intelligence – Part 1: A Motivating Example"
   ]
  },
  {
   "cell_type": "markdown",
   "id": "54513e18-0300-4f0f-86ae-c3b0cd431b70",
   "metadata": {},
   "source": [
    "Link to the article:  [A motivating Example](https://www.python.org)"
   ]
  },
  {
   "cell_type": "markdown",
   "id": "c1601de8-754a-4dd4-9883-f78a0c746b2c",
   "metadata": {},
   "source": [
    "## Import libraries"
   ]
  },
  {
   "cell_type": "code",
   "execution_count": 1,
   "id": "92679b5c",
   "metadata": {},
   "outputs": [],
   "source": [
    "# Import libraries\n",
    "import numpy as np\n",
    "import pandas as pd\n",
    "import statsmodels.formula.api as smf\n",
    "from itertools import product\n",
    "import seaborn as sns\n",
    "import matplotlib.pyplot as plt\n",
    "import warnings\n",
    "\n",
    "# Ignore warnings\n",
    "warnings.filterwarnings(\"ignore\")\n",
    "\n",
    "# Set up the style of graphs\n",
    "plt.style.use('fivethirtyeight')\n",
    "\n",
    "# Display numbers with 2 decimal points\n",
    "pd.options.display.float_format='{:,.2f}'.format"
   ]
  },
  {
   "cell_type": "markdown",
   "id": "dac1f884",
   "metadata": {},
   "source": [
    "## Generate the data"
   ]
  },
  {
   "cell_type": "code",
   "execution_count": 2,
   "id": "de09f71c",
   "metadata": {},
   "outputs": [],
   "source": [
    "# Set the sample size\n",
    "n = 1000\n",
    "\n",
    "# Generate customers' Ids \n",
    "Id = pd.Series(range(1,1001))\n",
    "\n",
    "# Generate dates \n",
    "start_date = '2024-05-02'\n",
    "end_date = '2024-05-04'\n",
    "Dates = pd.date_range(start=start_date, end=end_date)\n",
    "\n",
    "# Create the product of Ids and dates\n",
    "data_did = pd.DataFrame(product(Dates, Id))\n",
    "data_did = data_did.rename(columns={0: 'Date', 1: \"Id\"})\n",
    "\n",
    "# Create promo groups \n",
    "data_did['Promo'] = np.where(data_did.Id<501, 1, 0)\n",
    "\n",
    "# Create the event\n",
    "data_did['Event'] = np.where(data_did.Date=='2024-05-04', 1, 0)\n",
    "\n",
    "# Generate Sales with the group difference equal $10, the event effect equal $5, and the promo effect equal $10\n",
    "data_did['Sales'] = np.where(data_did.Id<501, 20, 10)\n",
    "data_did['Sales'] = np.where(((data_did.Date=='2024-05-04') & (data_did.Id>500)), 15, data_did.Sales)\n",
    "data_did['Sales'] = np.where(((data_did.Date=='2024-05-04') & (data_did.Id<501)), 35, data_did.Sales)\n",
    "\n",
    "# Add the random error\n",
    "np.random.seed(4)\n",
    "data_did['Sales'] = data_did['Sales'] + np.random.randn(3000)"
   ]
  },
  {
   "cell_type": "markdown",
   "id": "50018e75-1b9a-4862-8023-6d2a5ef68c11",
   "metadata": {},
   "source": [
    "## Solution 1: Basic Statistics"
   ]
  },
  {
   "cell_type": "code",
   "execution_count": 3,
   "id": "1e00ab0f-aea1-470d-a2cc-f0d699ee9e87",
   "metadata": {},
   "outputs": [
    {
     "data": {
      "text/html": [
       "<div>\n",
       "<style scoped>\n",
       "    .dataframe tbody tr th:only-of-type {\n",
       "        vertical-align: middle;\n",
       "    }\n",
       "\n",
       "    .dataframe tbody tr th {\n",
       "        vertical-align: top;\n",
       "    }\n",
       "\n",
       "    .dataframe thead th {\n",
       "        text-align: right;\n",
       "    }\n",
       "</style>\n",
       "<table border=\"1\" class=\"dataframe\">\n",
       "  <thead>\n",
       "    <tr style=\"text-align: right;\">\n",
       "      <th>Event</th>\n",
       "      <th>0</th>\n",
       "      <th>1</th>\n",
       "    </tr>\n",
       "    <tr>\n",
       "      <th>Promo</th>\n",
       "      <th></th>\n",
       "      <th></th>\n",
       "    </tr>\n",
       "  </thead>\n",
       "  <tbody>\n",
       "    <tr>\n",
       "      <th>0</th>\n",
       "      <td>10.00</td>\n",
       "      <td>15.00</td>\n",
       "    </tr>\n",
       "    <tr>\n",
       "      <th>1</th>\n",
       "      <td>20.00</td>\n",
       "      <td>35.00</td>\n",
       "    </tr>\n",
       "  </tbody>\n",
       "</table>\n",
       "</div>"
      ],
      "text/plain": [
       "Event     0     1\n",
       "Promo            \n",
       "0     10.00 15.00\n",
       "1     20.00 35.00"
      ]
     },
     "execution_count": 3,
     "metadata": {},
     "output_type": "execute_result"
    }
   ],
   "source": [
    "# Use a pivot table s to calculate the effect of the promo \n",
    "round(pd.pivot_table(data_did, values='Sales', index='Promo', columns='Event', aggfunc='mean'), 1)"
   ]
  },
  {
   "cell_type": "markdown",
   "id": "1a9f4a91-472c-4d88-bd90-e3f718936e3e",
   "metadata": {},
   "source": [
    "The effect of the promotional campaign can be calculated as:\n",
    "\n",
    "ATT = (35 - 20) - (15 - 10) = 10 or\n",
    "\n",
    "ATT = (35 - 15) - (20 - 10) = 10"
   ]
  },
  {
   "cell_type": "code",
   "execution_count": 4,
   "id": "5f3d4a4a-b7df-49ee-b580-b3dd80239387",
   "metadata": {},
   "outputs": [
    {
     "name": "stdout",
     "output_type": "stream",
     "text": [
      "Average promotional uplift: 10.0\n"
     ]
    }
   ],
   "source": [
    "# Use statistics to calculate  the effect of the promo \n",
    "d11 = data_did[(data_did.Promo==1) & (data_did.Event==1)].Sales.mean()\n",
    "d00 = data_did[(data_did.Promo==0) & (data_did.Event==0)].Sales.mean()\n",
    "d01 = data_did[(data_did.Promo==0) & (data_did.Event==1)].Sales.mean()\n",
    "d10 = data_did[(data_did.Promo==1) & (data_did.Event==0)].Sales.mean()\n",
    "Uplift = (d11 - d10) - (d01 - d00)\n",
    "print(f'Average promotional uplift: {round(Uplift, 1)}')"
   ]
  },
  {
   "cell_type": "code",
   "execution_count": 5,
   "id": "9004a7db-fd61-403c-b804-793569e65a59",
   "metadata": {},
   "outputs": [
    {
     "name": "stdout",
     "output_type": "stream",
     "text": [
      "Average event uplift: 5.0\n"
     ]
    }
   ],
   "source": [
    "# Use statistics to calculate the event uplift\n",
    "Event = (d01 - d00)\n",
    "print(f'Average event uplift: {round(Event, 1)}')"
   ]
  },
  {
   "cell_type": "markdown",
   "id": "e8260438",
   "metadata": {},
   "source": [
    "## Solution 2: Regression with dummy variables "
   ]
  },
  {
   "cell_type": "code",
   "execution_count": 6,
   "id": "b5a66a53",
   "metadata": {},
   "outputs": [
    {
     "data": {
      "text/html": [
       "<table class=\"simpletable\">\n",
       "<tr>\n",
       "      <td></td>         <th>coef</th>     <th>std err</th>      <th>t</th>      <th>P>|t|</th>  <th>[0.025</th>    <th>0.975]</th>  \n",
       "</tr>\n",
       "<tr>\n",
       "  <th>Intercept</th> <td>   14.9654</td> <td>    0.044</td> <td>  343.878</td> <td> 0.000</td> <td>   14.880</td> <td>   15.051</td>\n",
       "</tr>\n",
       "<tr>\n",
       "  <th>Promo</th>     <td>   20.0369</td> <td>    0.062</td> <td>  325.560</td> <td> 0.000</td> <td>   19.916</td> <td>   20.158</td>\n",
       "</tr>\n",
       "</table>"
      ],
      "text/latex": [
       "\\begin{center}\n",
       "\\begin{tabular}{lcccccc}\n",
       "\\toprule\n",
       "                   & \\textbf{coef} & \\textbf{std err} & \\textbf{t} & \\textbf{P$> |$t$|$} & \\textbf{[0.025} & \\textbf{0.975]}  \\\\\n",
       "\\midrule\n",
       "\\textbf{Intercept} &      14.9654  &        0.044     &   343.878  &         0.000        &       14.880    &       15.051     \\\\\n",
       "\\textbf{Promo}     &      20.0369  &        0.062     &   325.560  &         0.000        &       19.916    &       20.158     \\\\\n",
       "\\bottomrule\n",
       "\\end{tabular}\n",
       "\\end{center}"
      ],
      "text/plain": [
       "<class 'statsmodels.iolib.table.SimpleTable'>"
      ]
     },
     "execution_count": 6,
     "metadata": {},
     "output_type": "execute_result"
    }
   ],
   "source": [
    "# Estimate the effect of the promo comparing the test and the control groups using a naive approach\n",
    "df1 = data_did[data_did.Date=='2024-05-04']\n",
    "\n",
    "model_naive = smf.ols('Sales ~ Promo', df1).fit()\n",
    "model_naive.summary().tables[1]"
   ]
  },
  {
   "cell_type": "markdown",
   "id": "c03665ab-546f-4486-9cb5-c4869b92bf0d",
   "metadata": {},
   "source": [
    "The estimated effect of the promotional campaign is 20.04 compared to the true one equal 10. "
   ]
  },
  {
   "cell_type": "code",
   "execution_count": 7,
   "id": "44765183",
   "metadata": {},
   "outputs": [
    {
     "data": {
      "text/html": [
       "<table class=\"simpletable\">\n",
       "<tr>\n",
       "       <td></td>          <th>coef</th>     <th>std err</th>      <th>t</th>      <th>P>|t|</th>  <th>[0.025</th>    <th>0.975]</th>  \n",
       "</tr>\n",
       "<tr>\n",
       "  <th>Intercept</th>   <td>   10.0145</td> <td>    0.031</td> <td>  325.975</td> <td> 0.000</td> <td>    9.954</td> <td>   10.075</td>\n",
       "</tr>\n",
       "<tr>\n",
       "  <th>Promo</th>       <td>   10.0244</td> <td>    0.043</td> <td>  230.728</td> <td> 0.000</td> <td>    9.939</td> <td>   10.110</td>\n",
       "</tr>\n",
       "<tr>\n",
       "  <th>Event</th>       <td>    4.9510</td> <td>    0.053</td> <td>   93.043</td> <td> 0.000</td> <td>    4.847</td> <td>    5.055</td>\n",
       "</tr>\n",
       "<tr>\n",
       "  <th>Promo:Event</th> <td>   10.0125</td> <td>    0.075</td> <td>  133.053</td> <td> 0.000</td> <td>    9.865</td> <td>   10.160</td>\n",
       "</tr>\n",
       "</table>"
      ],
      "text/latex": [
       "\\begin{center}\n",
       "\\begin{tabular}{lcccccc}\n",
       "\\toprule\n",
       "                     & \\textbf{coef} & \\textbf{std err} & \\textbf{t} & \\textbf{P$> |$t$|$} & \\textbf{[0.025} & \\textbf{0.975]}  \\\\\n",
       "\\midrule\n",
       "\\textbf{Intercept}   &      10.0145  &        0.031     &   325.975  &         0.000        &        9.954    &       10.075     \\\\\n",
       "\\textbf{Promo}       &      10.0244  &        0.043     &   230.728  &         0.000        &        9.939    &       10.110     \\\\\n",
       "\\textbf{Event}       &       4.9510  &        0.053     &    93.043  &         0.000        &        4.847    &        5.055     \\\\\n",
       "\\textbf{Promo:Event} &      10.0125  &        0.075     &   133.053  &         0.000        &        9.865    &       10.160     \\\\\n",
       "\\bottomrule\n",
       "\\end{tabular}\n",
       "\\end{center}"
      ],
      "text/plain": [
       "<class 'statsmodels.iolib.table.SimpleTable'>"
      ]
     },
     "execution_count": 7,
     "metadata": {},
     "output_type": "execute_result"
    }
   ],
   "source": [
    "# Apply difference in differences technique to estimate the effect of the promo\n",
    "model_did = smf.ols('Sales ~ Promo*Event', data_did).fit()\n",
    "model_did.summary().tables[1]"
   ]
  },
  {
   "cell_type": "markdown",
   "id": "45efea3e-f569-4920-85ea-9f40f812ae22",
   "metadata": {},
   "source": [
    "The estimated effect of the promotional campaign is 10.01 compared to the true one equal 10. "
   ]
  },
  {
   "cell_type": "markdown",
   "id": "da839dd8-0d58-4088-80e9-0d46d0a893d3",
   "metadata": {},
   "source": [
    "When we work with actual data, I recommend fitting the model with covariance type \"cluster\" grouping the observations by customer (Id): \n",
    "\n",
    "fit(cov_type=\"cluster\", cov_kwds={'groups': data_did['Id']})"
   ]
  },
  {
   "cell_type": "markdown",
   "id": "2c1fafad",
   "metadata": {},
   "source": [
    "## Visualize the results"
   ]
  },
  {
   "cell_type": "code",
   "execution_count": 8,
   "id": "dea51212",
   "metadata": {},
   "outputs": [
    {
     "data": {
      "text/html": [
       "<div>\n",
       "<style scoped>\n",
       "    .dataframe tbody tr th:only-of-type {\n",
       "        vertical-align: middle;\n",
       "    }\n",
       "\n",
       "    .dataframe tbody tr th {\n",
       "        vertical-align: top;\n",
       "    }\n",
       "\n",
       "    .dataframe thead th {\n",
       "        text-align: right;\n",
       "    }\n",
       "</style>\n",
       "<table border=\"1\" class=\"dataframe\">\n",
       "  <thead>\n",
       "    <tr style=\"text-align: right;\">\n",
       "      <th></th>\n",
       "      <th>index</th>\n",
       "      <th>Coeff</th>\n",
       "    </tr>\n",
       "  </thead>\n",
       "  <tbody>\n",
       "    <tr>\n",
       "      <th>0</th>\n",
       "      <td>Intercept</td>\n",
       "      <td>10.01</td>\n",
       "    </tr>\n",
       "    <tr>\n",
       "      <th>1</th>\n",
       "      <td>Promo</td>\n",
       "      <td>10.02</td>\n",
       "    </tr>\n",
       "    <tr>\n",
       "      <th>2</th>\n",
       "      <td>Event</td>\n",
       "      <td>4.95</td>\n",
       "    </tr>\n",
       "    <tr>\n",
       "      <th>3</th>\n",
       "      <td>Promo:Event</td>\n",
       "      <td>10.01</td>\n",
       "    </tr>\n",
       "  </tbody>\n",
       "</table>\n",
       "</div>"
      ],
      "text/plain": [
       "         index  Coeff\n",
       "0    Intercept  10.01\n",
       "1        Promo  10.02\n",
       "2        Event   4.95\n",
       "3  Promo:Event  10.01"
      ]
     },
     "execution_count": 8,
     "metadata": {},
     "output_type": "execute_result"
    }
   ],
   "source": [
    "# Extract the coefficients\n",
    "coef_didco = dict(model_did.params)\n",
    "coef_didco = pd.DataFrame([coef_didco]).T\n",
    "coef_didco = coef_didco.rename(columns={0: \"Coeff\"})\n",
    "coef_didco.reset_index(inplace=True)\n",
    "coef_didco"
   ]
  },
  {
   "cell_type": "code",
   "execution_count": 9,
   "id": "1e56a254",
   "metadata": {},
   "outputs": [],
   "source": [
    "# Generate the dates\n",
    "start_date = '2024-05-02'\n",
    "end_date = '2024-05-04'\n",
    "Dates = pd.date_range(start=start_date, end=end_date)\n",
    "Didco = pd.DataFrame(Dates)\n",
    "Didco = Didco.rename(columns={0: \"Date\"})"
   ]
  },
  {
   "cell_type": "code",
   "execution_count": 10,
   "id": "c49cbfc2",
   "metadata": {},
   "outputs": [
    {
     "data": {
      "text/html": [
       "<div>\n",
       "<style scoped>\n",
       "    .dataframe tbody tr th:only-of-type {\n",
       "        vertical-align: middle;\n",
       "    }\n",
       "\n",
       "    .dataframe tbody tr th {\n",
       "        vertical-align: top;\n",
       "    }\n",
       "\n",
       "    .dataframe thead th {\n",
       "        text-align: right;\n",
       "    }\n",
       "</style>\n",
       "<table border=\"1\" class=\"dataframe\">\n",
       "  <thead>\n",
       "    <tr style=\"text-align: right;\">\n",
       "      <th></th>\n",
       "      <th>Date</th>\n",
       "      <th>Control</th>\n",
       "      <th>Event</th>\n",
       "      <th>Parallel</th>\n",
       "      <th>Test</th>\n",
       "    </tr>\n",
       "  </thead>\n",
       "  <tbody>\n",
       "    <tr>\n",
       "      <th>0</th>\n",
       "      <td>2024-05-02</td>\n",
       "      <td>10.01</td>\n",
       "      <td>10.01</td>\n",
       "      <td>20.04</td>\n",
       "      <td>20.04</td>\n",
       "    </tr>\n",
       "    <tr>\n",
       "      <th>1</th>\n",
       "      <td>2024-05-03</td>\n",
       "      <td>10.01</td>\n",
       "      <td>10.01</td>\n",
       "      <td>20.04</td>\n",
       "      <td>20.04</td>\n",
       "    </tr>\n",
       "    <tr>\n",
       "      <th>2</th>\n",
       "      <td>2024-05-04</td>\n",
       "      <td>10.01</td>\n",
       "      <td>14.97</td>\n",
       "      <td>24.99</td>\n",
       "      <td>35.00</td>\n",
       "    </tr>\n",
       "  </tbody>\n",
       "</table>\n",
       "</div>"
      ],
      "text/plain": [
       "        Date  Control  Event  Parallel  Test\n",
       "0 2024-05-02    10.01  10.01     20.04 20.04\n",
       "1 2024-05-03    10.01  10.01     20.04 20.04\n",
       "2 2024-05-04    10.01  14.97     24.99 35.00"
      ]
     },
     "execution_count": 10,
     "metadata": {},
     "output_type": "execute_result"
    }
   ],
   "source": [
    "# Create the dataset with the effects\n",
    "\n",
    "# The average sales of the control group without the event\n",
    "Didco['Control'] = coef_didco.iloc[0,1]\n",
    "\n",
    "# The average sales of the control group before and during the event\n",
    "Didco['Event'] = np.where((Didco.Date=='2024-05-04') , Didco['Control'] + coef_didco.iloc[2,1], Didco.Control)\n",
    "\n",
    "# The average sales of the test group with the event and without the promotional campaign\n",
    "Didco['Parallel'] = Didco['Event'] + coef_didco.iloc[1,1]\n",
    "\n",
    "# The average sales of the test group with the event and the promotional campaign\n",
    "Didco['Test'] = np.where((Didco.Date=='2024-05-04') , Didco['Parallel'] + coef_didco.iloc[3,1], Didco.Parallel)\n",
    "\n",
    "Didco['Date'] = pd.to_datetime(Didco['Date'])\n",
    "Didco"
   ]
  },
  {
   "cell_type": "code",
   "execution_count": 11,
   "id": "df762837",
   "metadata": {},
   "outputs": [
    {
     "data": {
      "image/png": "[encoded data removed]",
      "text/plain": [
       "<Figure size 1000x600 with 1 Axes>"
      ]
     },
     "metadata": {},
     "output_type": "display_data"
    }
   ],
   "source": [
    "# Create line plots\n",
    "Didco['Date'] = Didco['Date'].astype(str)\n",
    "\n",
    "plt.figure(figsize=(10, 6))\n",
    "plt.plot(Didco['Date'], Didco.Control, color='blue', label='Control-No event') \n",
    "plt.plot(Didco['Date'], Didco.Event, color='green', label='Control-Event') \n",
    "plt.plot(Didco['Date'], Didco.Parallel, color='black', label='Test-No promo') \n",
    "plt.plot(Didco['Date'], Didco.Test, color='red', label='Test-Promo') \n",
    "\n",
    "plt.plot([Didco['Date'][2], Didco['Date'][2]], [Didco['Parallel'][2], Didco['Test'][2]], linestyle='--', color='gray')\n",
    "plt.text(Didco['Date'][2], 30, 'Promo effect', rotation=90, verticalalignment='center', horizontalalignment='right')\n",
    "plt.plot([Didco['Date'][2], Didco['Date'][2]], [Didco['Control'][2], Didco['Event'][2]], linestyle='--', color='cyan') \n",
    "plt.text(Didco['Date'][2], 12.5, 'Event', rotation=90, verticalalignment='center', horizontalalignment='right')\n",
    "plt.plot([Didco['Date'][2], Didco['Date'][2]], [Didco['Event'][2], Didco['Parallel'][2]], linestyle='--', color='orange') \n",
    "plt.text(Didco['Date'][2], 20, 'Group effect', rotation=90, verticalalignment='center', horizontalalignment='right')\n",
    "\n",
    "# Add titles and labels \n",
    "plt.title('Difference-in-differences with parallel trends') \n",
    "plt.xlabel('Dates') \n",
    "plt.ylabel('Sales') \n",
    "\n",
    "# Add a legend \n",
    "plt.legend() \n",
    "\n",
    "# Show the plot \n",
    "plt.show();"
   ]
  }
 ],
 "metadata": {
  "kernelspec": {
   "display_name": "Python 3 (ipykernel)",
   "language": "python",
   "name": "python3"
  },
  "language_info": {
   "codemirror_mode": {
    "name": "ipython",
    "version": 3
   },
   "file_extension": ".py",
   "mimetype": "text/x-python",
   "name": "python",
   "nbconvert_exporter": "python",
   "pygments_lexer": "ipython3",
   "version": "3.12.7"
  }
 },
 "nbformat": 4,
 "nbformat_minor": 5
}
