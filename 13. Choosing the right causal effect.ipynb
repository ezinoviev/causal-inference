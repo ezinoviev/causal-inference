{
 "cells": [
  {
   "cell_type": "markdown",
   "metadata": {},
   "source": [
    "# Causal Inference in Decision Intelligence – Part 13: Choosing the Right Causal Effect"
   ]
  },
  {
   "cell_type": "markdown",
   "metadata": {},
   "source": [
    "Link to the article:  [Choosing the Right Causal Effect](https://www.linkedin.com/pulse/causal-inference-decision-intelligence-part-13-right-effect-zinoviev-in4lc)"
   ]
  },
  {
   "cell_type": "code",
   "execution_count": null,
   "metadata": {},
   "outputs": [],
   "source": [
    "# Check if dowhy is installed, and install it if not\n",
    "try:\n",
    "    import dowhy\n",
    "except ImportError:\n",
    "    import subprocess\n",
    "    import sys\n",
    "    print(\"Installing dowhy...\")\n",
    "    subprocess.check_call([sys.executable, \"-m\", \"pip\", \"install\", \"dowhy\"])\n",
    "    import dowhy"
   ]
  },
  {
   "cell_type": "code",
   "execution_count": 5,
   "metadata": {},
   "outputs": [],
   "source": [
    "# Import libraries\n",
    "import numpy as np\n",
    "import pandas as pd\n",
    "import statsmodels.formula.api as smf\n",
    "import seaborn as sns\n",
    "import matplotlib.pyplot as plt\n",
    "import networkx as nx\n",
    "from dowhy import CausalModel\n",
    "\n",
    "import warnings\n",
    "warnings.filterwarnings('ignore')\n",
    "\n",
    "import dowhy.gcm as gcm"
   ]
  },
  {
   "cell_type": "markdown",
   "metadata": {},
   "source": [
    "## ATT versus ATU"
   ]
  },
  {
   "cell_type": "code",
   "execution_count": 6,
   "metadata": {},
   "outputs": [],
   "source": [
    "# Generate the data for an intuitive example\n",
    "\n",
    "np.random.seed(3)\n",
    "\n",
    "# Generate customers' Ids \n",
    "df = pd.DataFrame({'Id': range(1,11)})\n",
    "\n",
    "# Generate Income variable \n",
    "df['Loyalty'] = np.where(df.Id>6, 1, 0)\n",
    "df['Income'] = np.where((df.Id<4) | (df.Id==7), 0, 1)\n",
    "\n",
    "# Generate sales\n",
    "df['Sales'] = 10 + 2 * df.Income + 3 * df.Loyalty + 4 * df.Loyalty * df.Income"
   ]
  },
  {
   "cell_type": "code",
   "execution_count": 7,
   "metadata": {},
   "outputs": [
    {
     "data": {
      "text/html": [
       "<div>\n",
       "<style scoped>\n",
       "    .dataframe tbody tr th:only-of-type {\n",
       "        vertical-align: middle;\n",
       "    }\n",
       "\n",
       "    .dataframe tbody tr th {\n",
       "        vertical-align: top;\n",
       "    }\n",
       "\n",
       "    .dataframe thead th {\n",
       "        text-align: right;\n",
       "    }\n",
       "</style>\n",
       "<table border=\"1\" class=\"dataframe\">\n",
       "  <thead>\n",
       "    <tr style=\"text-align: right;\">\n",
       "      <th></th>\n",
       "      <th>Id</th>\n",
       "      <th>Loyalty</th>\n",
       "      <th>Income</th>\n",
       "      <th>Sales</th>\n",
       "    </tr>\n",
       "  </thead>\n",
       "  <tbody>\n",
       "    <tr>\n",
       "      <th>0</th>\n",
       "      <td>1</td>\n",
       "      <td>0</td>\n",
       "      <td>0</td>\n",
       "      <td>10</td>\n",
       "    </tr>\n",
       "    <tr>\n",
       "      <th>1</th>\n",
       "      <td>2</td>\n",
       "      <td>0</td>\n",
       "      <td>0</td>\n",
       "      <td>10</td>\n",
       "    </tr>\n",
       "    <tr>\n",
       "      <th>2</th>\n",
       "      <td>3</td>\n",
       "      <td>0</td>\n",
       "      <td>0</td>\n",
       "      <td>10</td>\n",
       "    </tr>\n",
       "    <tr>\n",
       "      <th>3</th>\n",
       "      <td>4</td>\n",
       "      <td>0</td>\n",
       "      <td>1</td>\n",
       "      <td>12</td>\n",
       "    </tr>\n",
       "    <tr>\n",
       "      <th>4</th>\n",
       "      <td>5</td>\n",
       "      <td>0</td>\n",
       "      <td>1</td>\n",
       "      <td>12</td>\n",
       "    </tr>\n",
       "    <tr>\n",
       "      <th>5</th>\n",
       "      <td>6</td>\n",
       "      <td>0</td>\n",
       "      <td>1</td>\n",
       "      <td>12</td>\n",
       "    </tr>\n",
       "    <tr>\n",
       "      <th>6</th>\n",
       "      <td>7</td>\n",
       "      <td>1</td>\n",
       "      <td>0</td>\n",
       "      <td>13</td>\n",
       "    </tr>\n",
       "    <tr>\n",
       "      <th>7</th>\n",
       "      <td>8</td>\n",
       "      <td>1</td>\n",
       "      <td>1</td>\n",
       "      <td>19</td>\n",
       "    </tr>\n",
       "    <tr>\n",
       "      <th>8</th>\n",
       "      <td>9</td>\n",
       "      <td>1</td>\n",
       "      <td>1</td>\n",
       "      <td>19</td>\n",
       "    </tr>\n",
       "    <tr>\n",
       "      <th>9</th>\n",
       "      <td>10</td>\n",
       "      <td>1</td>\n",
       "      <td>1</td>\n",
       "      <td>19</td>\n",
       "    </tr>\n",
       "  </tbody>\n",
       "</table>\n",
       "</div>"
      ],
      "text/plain": [
       "   Id  Loyalty  Income  Sales\n",
       "0   1        0       0     10\n",
       "1   2        0       0     10\n",
       "2   3        0       0     10\n",
       "3   4        0       1     12\n",
       "4   5        0       1     12\n",
       "5   6        0       1     12\n",
       "6   7        1       0     13\n",
       "7   8        1       1     19\n",
       "8   9        1       1     19\n",
       "9  10        1       1     19"
      ]
     },
     "execution_count": 7,
     "metadata": {},
     "output_type": "execute_result"
    }
   ],
   "source": [
    "df"
   ]
  },
  {
   "cell_type": "code",
   "execution_count": 8,
   "metadata": {},
   "outputs": [
    {
     "name": "stderr",
     "output_type": "stream",
     "text": [
      "C:\\Users\\yevge\\anaconda3\\Lib\\site-packages\\scipy\\stats\\_axis_nan_policy.py:531: UserWarning: kurtosistest only valid for n>=20 ... continuing anyway, n=10\n",
      "  res = hypotest_fun_out(*samples, **kwds)\n"
     ]
    },
    {
     "data": {
      "text/html": [
       "<table class=\"simpletable\">\n",
       "<tr>\n",
       "         <td></td>           <th>coef</th>     <th>std err</th>      <th>t</th>      <th>P>|t|</th>  <th>[0.025</th>    <th>0.975]</th>  \n",
       "</tr>\n",
       "<tr>\n",
       "  <th>Intercept</th>      <td>   10.0000</td> <td> 5.35e-15</td> <td> 1.87e+15</td> <td> 0.000</td> <td>   10.000</td> <td>   10.000</td>\n",
       "</tr>\n",
       "<tr>\n",
       "  <th>Loyalty</th>        <td>    3.0000</td> <td> 1.07e-14</td> <td> 2.81e+14</td> <td> 0.000</td> <td>    3.000</td> <td>    3.000</td>\n",
       "</tr>\n",
       "<tr>\n",
       "  <th>Income</th>         <td>    2.0000</td> <td> 7.56e-15</td> <td> 2.65e+14</td> <td> 0.000</td> <td>    2.000</td> <td>    2.000</td>\n",
       "</tr>\n",
       "<tr>\n",
       "  <th>Loyalty:Income</th> <td>    4.0000</td> <td> 1.31e-14</td> <td> 3.05e+14</td> <td> 0.000</td> <td>    4.000</td> <td>    4.000</td>\n",
       "</tr>\n",
       "</table>"
      ],
      "text/plain": [
       "<class 'statsmodels.iolib.table.SimpleTable'>"
      ]
     },
     "execution_count": 8,
     "metadata": {},
     "output_type": "execute_result"
    }
   ],
   "source": [
    "# Estimate the effects with linear regression\n",
    "model_att = smf.ols('Sales ~ Loyalty*Income', df).fit().summary().tables[1]\n",
    "model_att"
   ]
  },
  {
   "cell_type": "code",
   "execution_count": null,
   "metadata": {},
   "outputs": [],
   "source": []
  },
  {
   "cell_type": "markdown",
   "metadata": {},
   "source": [
    "## Total, Direct and Indirect effects\n"
   ]
  },
  {
   "cell_type": "code",
   "execution_count": 9,
   "metadata": {},
   "outputs": [
    {
     "data": {
      "text/html": [
       "<div>\n",
       "<style scoped>\n",
       "    .dataframe tbody tr th:only-of-type {\n",
       "        vertical-align: middle;\n",
       "    }\n",
       "\n",
       "    .dataframe tbody tr th {\n",
       "        vertical-align: top;\n",
       "    }\n",
       "\n",
       "    .dataframe thead th {\n",
       "        text-align: right;\n",
       "    }\n",
       "</style>\n",
       "<table border=\"1\" class=\"dataframe\">\n",
       "  <thead>\n",
       "    <tr style=\"text-align: right;\">\n",
       "      <th></th>\n",
       "      <th>Year</th>\n",
       "      <th>Id</th>\n",
       "      <th>Income</th>\n",
       "      <th>Macro</th>\n",
       "      <th>Price</th>\n",
       "      <th>Loyalty</th>\n",
       "      <th>Visits</th>\n",
       "      <th>Sales</th>\n",
       "    </tr>\n",
       "  </thead>\n",
       "  <tbody>\n",
       "    <tr>\n",
       "      <th>51</th>\n",
       "      <td>2020</td>\n",
       "      <td>52</td>\n",
       "      <td>1</td>\n",
       "      <td>1</td>\n",
       "      <td>11.592328</td>\n",
       "      <td>71.577206</td>\n",
       "      <td>7.032273</td>\n",
       "      <td>106.393591</td>\n",
       "    </tr>\n",
       "    <tr>\n",
       "      <th>3582</th>\n",
       "      <td>2023</td>\n",
       "      <td>583</td>\n",
       "      <td>1</td>\n",
       "      <td>0</td>\n",
       "      <td>10.382522</td>\n",
       "      <td>83.363589</td>\n",
       "      <td>8.430654</td>\n",
       "      <td>100.989987</td>\n",
       "    </tr>\n",
       "    <tr>\n",
       "      <th>1130</th>\n",
       "      <td>2021</td>\n",
       "      <td>131</td>\n",
       "      <td>1</td>\n",
       "      <td>0</td>\n",
       "      <td>10.373959</td>\n",
       "      <td>83.608966</td>\n",
       "      <td>8.147304</td>\n",
       "      <td>96.889844</td>\n",
       "    </tr>\n",
       "    <tr>\n",
       "      <th>2927</th>\n",
       "      <td>2022</td>\n",
       "      <td>928</td>\n",
       "      <td>1</td>\n",
       "      <td>1</td>\n",
       "      <td>11.175317</td>\n",
       "      <td>73.532787</td>\n",
       "      <td>7.125739</td>\n",
       "      <td>106.090393</td>\n",
       "    </tr>\n",
       "    <tr>\n",
       "      <th>23</th>\n",
       "      <td>2020</td>\n",
       "      <td>24</td>\n",
       "      <td>1</td>\n",
       "      <td>1</td>\n",
       "      <td>11.020734</td>\n",
       "      <td>71.208528</td>\n",
       "      <td>7.699894</td>\n",
       "      <td>108.854847</td>\n",
       "    </tr>\n",
       "    <tr>\n",
       "      <th>3444</th>\n",
       "      <td>2023</td>\n",
       "      <td>445</td>\n",
       "      <td>3</td>\n",
       "      <td>0</td>\n",
       "      <td>10.199208</td>\n",
       "      <td>81.610936</td>\n",
       "      <td>8.890104</td>\n",
       "      <td>122.724296</td>\n",
       "    </tr>\n",
       "    <tr>\n",
       "      <th>1250</th>\n",
       "      <td>2021</td>\n",
       "      <td>251</td>\n",
       "      <td>3</td>\n",
       "      <td>0</td>\n",
       "      <td>10.080402</td>\n",
       "      <td>81.157260</td>\n",
       "      <td>8.391234</td>\n",
       "      <td>131.505148</td>\n",
       "    </tr>\n",
       "    <tr>\n",
       "      <th>2410</th>\n",
       "      <td>2022</td>\n",
       "      <td>411</td>\n",
       "      <td>3</td>\n",
       "      <td>1</td>\n",
       "      <td>12.040938</td>\n",
       "      <td>73.520657</td>\n",
       "      <td>7.711044</td>\n",
       "      <td>141.796487</td>\n",
       "    </tr>\n",
       "    <tr>\n",
       "      <th>1451</th>\n",
       "      <td>2021</td>\n",
       "      <td>452</td>\n",
       "      <td>1</td>\n",
       "      <td>0</td>\n",
       "      <td>9.687792</td>\n",
       "      <td>80.856476</td>\n",
       "      <td>8.187418</td>\n",
       "      <td>102.330257</td>\n",
       "    </tr>\n",
       "    <tr>\n",
       "      <th>1148</th>\n",
       "      <td>2021</td>\n",
       "      <td>149</td>\n",
       "      <td>2</td>\n",
       "      <td>0</td>\n",
       "      <td>9.959539</td>\n",
       "      <td>81.986081</td>\n",
       "      <td>7.272279</td>\n",
       "      <td>110.450705</td>\n",
       "    </tr>\n",
       "    <tr>\n",
       "      <th>1529</th>\n",
       "      <td>2021</td>\n",
       "      <td>530</td>\n",
       "      <td>1</td>\n",
       "      <td>0</td>\n",
       "      <td>9.355887</td>\n",
       "      <td>80.230209</td>\n",
       "      <td>8.189116</td>\n",
       "      <td>99.968519</td>\n",
       "    </tr>\n",
       "    <tr>\n",
       "      <th>1472</th>\n",
       "      <td>2021</td>\n",
       "      <td>473</td>\n",
       "      <td>1</td>\n",
       "      <td>0</td>\n",
       "      <td>9.916542</td>\n",
       "      <td>82.422841</td>\n",
       "      <td>8.615340</td>\n",
       "      <td>98.014119</td>\n",
       "    </tr>\n",
       "    <tr>\n",
       "      <th>17</th>\n",
       "      <td>2020</td>\n",
       "      <td>18</td>\n",
       "      <td>2</td>\n",
       "      <td>1</td>\n",
       "      <td>11.931270</td>\n",
       "      <td>72.092626</td>\n",
       "      <td>7.154717</td>\n",
       "      <td>120.663619</td>\n",
       "    </tr>\n",
       "    <tr>\n",
       "      <th>214</th>\n",
       "      <td>2020</td>\n",
       "      <td>215</td>\n",
       "      <td>1</td>\n",
       "      <td>1</td>\n",
       "      <td>12.064166</td>\n",
       "      <td>73.316023</td>\n",
       "      <td>7.135456</td>\n",
       "      <td>108.426900</td>\n",
       "    </tr>\n",
       "    <tr>\n",
       "      <th>3911</th>\n",
       "      <td>2023</td>\n",
       "      <td>912</td>\n",
       "      <td>3</td>\n",
       "      <td>0</td>\n",
       "      <td>9.876479</td>\n",
       "      <td>81.746354</td>\n",
       "      <td>8.385008</td>\n",
       "      <td>133.686684</td>\n",
       "    </tr>\n",
       "    <tr>\n",
       "      <th>3359</th>\n",
       "      <td>2023</td>\n",
       "      <td>360</td>\n",
       "      <td>3</td>\n",
       "      <td>0</td>\n",
       "      <td>9.501617</td>\n",
       "      <td>81.892056</td>\n",
       "      <td>8.174808</td>\n",
       "      <td>127.628291</td>\n",
       "    </tr>\n",
       "    <tr>\n",
       "      <th>3927</th>\n",
       "      <td>2023</td>\n",
       "      <td>928</td>\n",
       "      <td>1</td>\n",
       "      <td>0</td>\n",
       "      <td>9.813438</td>\n",
       "      <td>82.951816</td>\n",
       "      <td>8.730701</td>\n",
       "      <td>104.459241</td>\n",
       "    </tr>\n",
       "    <tr>\n",
       "      <th>3194</th>\n",
       "      <td>2023</td>\n",
       "      <td>195</td>\n",
       "      <td>2</td>\n",
       "      <td>0</td>\n",
       "      <td>9.931046</td>\n",
       "      <td>83.471437</td>\n",
       "      <td>7.739323</td>\n",
       "      <td>111.889750</td>\n",
       "    </tr>\n",
       "    <tr>\n",
       "      <th>2391</th>\n",
       "      <td>2022</td>\n",
       "      <td>392</td>\n",
       "      <td>2</td>\n",
       "      <td>1</td>\n",
       "      <td>13.114025</td>\n",
       "      <td>70.244093</td>\n",
       "      <td>7.378687</td>\n",
       "      <td>112.989191</td>\n",
       "    </tr>\n",
       "    <tr>\n",
       "      <th>2480</th>\n",
       "      <td>2022</td>\n",
       "      <td>481</td>\n",
       "      <td>2</td>\n",
       "      <td>1</td>\n",
       "      <td>12.317986</td>\n",
       "      <td>72.093467</td>\n",
       "      <td>7.406851</td>\n",
       "      <td>120.421620</td>\n",
       "    </tr>\n",
       "  </tbody>\n",
       "</table>\n",
       "</div>"
      ],
      "text/plain": [
       "      Year   Id  Income  Macro      Price    Loyalty    Visits       Sales\n",
       "51    2020   52       1      1  11.592328  71.577206  7.032273  106.393591\n",
       "3582  2023  583       1      0  10.382522  83.363589  8.430654  100.989987\n",
       "1130  2021  131       1      0  10.373959  83.608966  8.147304   96.889844\n",
       "2927  2022  928       1      1  11.175317  73.532787  7.125739  106.090393\n",
       "23    2020   24       1      1  11.020734  71.208528  7.699894  108.854847\n",
       "3444  2023  445       3      0  10.199208  81.610936  8.890104  122.724296\n",
       "1250  2021  251       3      0  10.080402  81.157260  8.391234  131.505148\n",
       "2410  2022  411       3      1  12.040938  73.520657  7.711044  141.796487\n",
       "1451  2021  452       1      0   9.687792  80.856476  8.187418  102.330257\n",
       "1148  2021  149       2      0   9.959539  81.986081  7.272279  110.450705\n",
       "1529  2021  530       1      0   9.355887  80.230209  8.189116   99.968519\n",
       "1472  2021  473       1      0   9.916542  82.422841  8.615340   98.014119\n",
       "17    2020   18       2      1  11.931270  72.092626  7.154717  120.663619\n",
       "214   2020  215       1      1  12.064166  73.316023  7.135456  108.426900\n",
       "3911  2023  912       3      0   9.876479  81.746354  8.385008  133.686684\n",
       "3359  2023  360       3      0   9.501617  81.892056  8.174808  127.628291\n",
       "3927  2023  928       1      0   9.813438  82.951816  8.730701  104.459241\n",
       "3194  2023  195       2      0   9.931046  83.471437  7.739323  111.889750\n",
       "2391  2022  392       2      1  13.114025  70.244093  7.378687  112.989191\n",
       "2480  2022  481       2      1  12.317986  72.093467  7.406851  120.421620"
      ]
     },
     "execution_count": 9,
     "metadata": {},
     "output_type": "execute_result"
    }
   ],
   "source": [
    "\n",
    "np.random.seed(3)\n",
    "\n",
    "# Generate customers' Ids \n",
    "Id = pd.Series(range(1,1001))\n",
    "\n",
    "# Generate Income variable \n",
    "#Income = np.random.choice([\"Low\", \"Medium\", \"High\"], size=1000, p=[0.5, 0.35, 0.15])\n",
    "Income = np.random.choice([1, 2, 3], size=1000, p=[0.5, 0.35, 0.15])\n",
    "\n",
    "\n",
    "data = pd.DataFrame({\"Id\": Id, \"Income\": Income})\n",
    "\n",
    "# Generate dates \n",
    "Year = pd.Series(range(2020,2024))\n",
    "\n",
    "# Create the product of Ids and Years\n",
    "year = pd.DataFrame({'Year': Year})\n",
    "data = year.merge(data, how='cross')\n",
    "\n",
    "# Generate Macro variable \n",
    "data[\"Macro\"] = np.where(((data.Year==2022) | (data.Year==2020)), 1, 0)\n",
    "\n",
    "# Create Price variable \n",
    "data['Price'] = 10 + 2 * data.Macro + np.random.normal(loc=0, scale=0.5, size=4000) \n",
    "\n",
    "# Create other variables \n",
    "data['Loyalty'] = 80 - 10 * data.Macro + np.random.normal(loc=2, scale=1, size=4000) \n",
    "data['Visits'] = 0.1 * data.Loyalty + np.random.normal(loc=0, scale=0.5, size=4000) \n",
    "\n",
    "data['Sales'] = 80 + 28 * data.Macro + 14 * data.Income - 7 * data.Price + 4 * data.Visits + 0.5 * data.Loyalty + np.random.normal(loc=0, scale=5, size=4000)\n",
    "\n",
    "data.sample(20)\n"
   ]
  },
  {
   "cell_type": "code",
   "execution_count": 10,
   "metadata": {},
   "outputs": [],
   "source": [
    "# Create the true DAG\n",
    "G = nx.DiGraph([('Macro', 'Sales'), ('Macro', 'Price'), ('Macro', 'Loyalty'), \n",
    "                ('Income', 'Sales'), ('Price', 'Sales'), ('Loyalty', 'Visits'), \n",
    "                ('Visits', 'Sales'), ('Loyalty', 'Sales')])\n",
    "\n",
    "# Create the list of labels for the DAG\n",
    "labels = {0: 'Macro', 1: 'Sales', 2: 'Price', 3: 'Loyalty', 4:'Income', 5: 'Visits'}"
   ]
  },
  {
   "cell_type": "code",
   "execution_count": 11,
   "metadata": {},
   "outputs": [
    {
     "data": {
      "image/png": "[encoded data removed]",
      "text/plain": [
       "<Figure size 800x600 with 1 Axes>"
      ]
     },
     "metadata": {},
     "output_type": "display_data"
    }
   ],
   "source": [
    "model = CausalModel(data=data,\n",
    "                     graph=G,\n",
    "                     treatment=\"Marketing\",\n",
    "                     outcome=\"Sales\")\n",
    "model.view_model()"
   ]
  },
  {
   "cell_type": "code",
   "execution_count": 12,
   "metadata": {},
   "outputs": [
    {
     "data": {
      "text/html": [
       "<table class=\"simpletable\">\n",
       "<tr>\n",
       "      <td></td>         <th>coef</th>     <th>std err</th>      <th>t</th>      <th>P>|t|</th>  <th>[0.025</th>    <th>0.975]</th>  \n",
       "</tr>\n",
       "<tr>\n",
       "  <th>Intercept</th> <td>  142.4105</td> <td>    2.920</td> <td>   48.778</td> <td> 0.000</td> <td>  136.687</td> <td>  148.134</td>\n",
       "</tr>\n",
       "<tr>\n",
       "  <th>Loyalty</th>   <td>   -0.4258</td> <td>    0.038</td> <td>  -11.254</td> <td> 0.000</td> <td>   -0.500</td> <td>   -0.352</td>\n",
       "</tr>\n",
       "</table>"
      ],
      "text/plain": [
       "<class 'statsmodels.iolib.table.SimpleTable'>"
      ]
     },
     "execution_count": 12,
     "metadata": {},
     "output_type": "execute_result"
    }
   ],
   "source": [
    "# Calculate \"Historical\" effect\n",
    "model_hist = smf.ols('Sales ~ Loyalty', data).fit().summary().tables[1]\n",
    "model_hist"
   ]
  },
  {
   "cell_type": "code",
   "execution_count": 13,
   "metadata": {},
   "outputs": [
    {
     "data": {
      "text/html": [
       "<table class=\"simpletable\">\n",
       "<tr>\n",
       "      <td></td>         <th>coef</th>     <th>std err</th>      <th>t</th>      <th>P>|t|</th>  <th>[0.025</th>    <th>0.975]</th>  \n",
       "</tr>\n",
       "<tr>\n",
       "  <th>Intercept</th> <td>  253.2164</td> <td>    4.808</td> <td>   52.665</td> <td> 0.000</td> <td>  243.790</td> <td>  262.643</td>\n",
       "</tr>\n",
       "<tr>\n",
       "  <th>Loyalty</th>   <td>   -1.4340</td> <td>    0.039</td> <td>  -36.816</td> <td> 0.000</td> <td>   -1.510</td> <td>   -1.358</td>\n",
       "</tr>\n",
       "<tr>\n",
       "  <th>Price</th>     <td>   -5.1901</td> <td>    0.178</td> <td>  -29.187</td> <td> 0.000</td> <td>   -5.539</td> <td>   -4.841</td>\n",
       "</tr>\n",
       "<tr>\n",
       "  <th>Income</th>    <td>   14.3481</td> <td>    0.132</td> <td>  108.904</td> <td> 0.000</td> <td>   14.090</td> <td>   14.606</td>\n",
       "</tr>\n",
       "</table>"
      ],
      "text/plain": [
       "<class 'statsmodels.iolib.table.SimpleTable'>"
      ]
     },
     "execution_count": 13,
     "metadata": {},
     "output_type": "execute_result"
    }
   ],
   "source": [
    "# Calculate \"Historical\" effect with the covariates\n",
    "model_hist = smf.ols('Sales ~ Loyalty + Price + Income', data).fit().summary().tables[1]\n",
    "model_hist"
   ]
  },
  {
   "cell_type": "code",
   "execution_count": null,
   "metadata": {},
   "outputs": [],
   "source": [
    "The historical effects have the opposite direction: an increase in Loyalty decreases Sales.  "
   ]
  },
  {
   "cell_type": "code",
   "execution_count": 14,
   "metadata": {},
   "outputs": [
    {
     "data": {
      "text/html": [
       "<table class=\"simpletable\">\n",
       "<tr>\n",
       "      <td></td>         <th>coef</th>     <th>std err</th>      <th>t</th>      <th>P>|t|</th>  <th>[0.025</th>    <th>0.975]</th>  \n",
       "</tr>\n",
       "<tr>\n",
       "  <th>Intercept</th> <td>   82.5151</td> <td>    7.237</td> <td>   11.403</td> <td> 0.000</td> <td>   68.327</td> <td>   96.703</td>\n",
       "</tr>\n",
       "<tr>\n",
       "  <th>Loyalty</th>   <td>    0.8686</td> <td>    0.086</td> <td>   10.151</td> <td> 0.000</td> <td>    0.701</td> <td>    1.036</td>\n",
       "</tr>\n",
       "<tr>\n",
       "  <th>Price</th>     <td>   -7.0430</td> <td>    0.173</td> <td>  -40.736</td> <td> 0.000</td> <td>   -7.382</td> <td>   -6.704</td>\n",
       "</tr>\n",
       "<tr>\n",
       "  <th>Income</th>    <td>   14.2884</td> <td>    0.119</td> <td>  119.679</td> <td> 0.000</td> <td>   14.054</td> <td>   14.522</td>\n",
       "</tr>\n",
       "<tr>\n",
       "  <th>Macro</th>     <td>   27.6797</td> <td>    0.937</td> <td>   29.541</td> <td> 0.000</td> <td>   25.843</td> <td>   29.517</td>\n",
       "</tr>\n",
       "</table>"
      ],
      "text/plain": [
       "<class 'statsmodels.iolib.table.SimpleTable'>"
      ]
     },
     "execution_count": 14,
     "metadata": {},
     "output_type": "execute_result"
    }
   ],
   "source": [
    "# Calculate \"Total\" effect\n",
    "model_total = smf.ols('Sales ~ Loyalty + Price + Income + Macro', data).fit().summary().tables[1]\n",
    "model_total"
   ]
  },
  {
   "cell_type": "code",
   "execution_count": 16,
   "metadata": {},
   "outputs": [
    {
     "data": {
      "text/html": [
       "<table class=\"simpletable\">\n",
       "<tr>\n",
       "      <td></td>         <th>coef</th>     <th>std err</th>      <th>t</th>      <th>P>|t|</th>  <th>[0.025</th>    <th>0.975]</th>  \n",
       "</tr>\n",
       "<tr>\n",
       "  <th>Intercept</th> <td>   84.8035</td> <td>    6.718</td> <td>   12.624</td> <td> 0.000</td> <td>   71.633</td> <td>   97.974</td>\n",
       "</tr>\n",
       "<tr>\n",
       "  <th>Loyalty</th>   <td>    0.4285</td> <td>    0.081</td> <td>    5.271</td> <td> 0.000</td> <td>    0.269</td> <td>    0.588</td>\n",
       "</tr>\n",
       "<tr>\n",
       "  <th>Income</th>    <td>   14.2175</td> <td>    0.111</td> <td>  128.252</td> <td> 0.000</td> <td>   14.000</td> <td>   14.435</td>\n",
       "</tr>\n",
       "<tr>\n",
       "  <th>Price</th>     <td>   -7.0228</td> <td>    0.160</td> <td>  -43.759</td> <td> 0.000</td> <td>   -7.337</td> <td>   -6.708</td>\n",
       "</tr>\n",
       "<tr>\n",
       "  <th>Macro</th>     <td>   27.4034</td> <td>    0.870</td> <td>   31.505</td> <td> 0.000</td> <td>   25.698</td> <td>   29.109</td>\n",
       "</tr>\n",
       "<tr>\n",
       "  <th>Visits</th>    <td>    4.1116</td> <td>    0.162</td> <td>   25.351</td> <td> 0.000</td> <td>    3.794</td> <td>    4.430</td>\n",
       "</tr>\n",
       "</table>"
      ],
      "text/plain": [
       "<class 'statsmodels.iolib.table.SimpleTable'>"
      ]
     },
     "execution_count": 16,
     "metadata": {},
     "output_type": "execute_result"
    }
   ],
   "source": [
    "# Calculate \"Direct\" effect\n",
    "model_direct = smf.ols('Sales ~ Loyalty + Income + Price + Macro + Visits', data).fit().summary().tables[1]\n",
    "model_direct"
   ]
  },
  {
   "cell_type": "code",
   "execution_count": 17,
   "metadata": {},
   "outputs": [
    {
     "data": {
      "text/html": [
       "<table class=\"simpletable\">\n",
       "<tr>\n",
       "      <td></td>         <th>coef</th>     <th>std err</th>      <th>t</th>      <th>P>|t|</th>  <th>[0.025</th>    <th>0.975]</th>  \n",
       "</tr>\n",
       "<tr>\n",
       "  <th>Intercept</th> <td>   -0.5566</td> <td>    0.655</td> <td>   -0.849</td> <td> 0.396</td> <td>   -1.841</td> <td>    0.728</td>\n",
       "</tr>\n",
       "<tr>\n",
       "  <th>Loyalty</th>   <td>    0.1070</td> <td>    0.008</td> <td>   13.815</td> <td> 0.000</td> <td>    0.092</td> <td>    0.122</td>\n",
       "</tr>\n",
       "<tr>\n",
       "  <th>Income</th>    <td>    0.0172</td> <td>    0.011</td> <td>    1.594</td> <td> 0.111</td> <td>   -0.004</td> <td>    0.038</td>\n",
       "</tr>\n",
       "<tr>\n",
       "  <th>Price</th>     <td>   -0.0049</td> <td>    0.016</td> <td>   -0.313</td> <td> 0.754</td> <td>   -0.036</td> <td>    0.026</td>\n",
       "</tr>\n",
       "<tr>\n",
       "  <th>Macro</th>     <td>    0.0672</td> <td>    0.085</td> <td>    0.792</td> <td> 0.428</td> <td>   -0.099</td> <td>    0.234</td>\n",
       "</tr>\n",
       "</table>"
      ],
      "text/plain": [
       "<class 'statsmodels.iolib.table.SimpleTable'>"
      ]
     },
     "execution_count": 17,
     "metadata": {},
     "output_type": "execute_result"
    }
   ],
   "source": [
    "# Estimate the effect of variables on Visits\n",
    "model_direct = smf.ols('Visits ~ Loyalty + Income + Price + Macro', data).fit().summary().tables[1]\n",
    "model_direct"
   ]
  },
  {
   "cell_type": "markdown",
   "metadata": {},
   "source": [
    "###### Calculate \"Indirect\" effect\n",
    "\n",
    "Approach 1\n",
    "\n",
    "Indirect = Total - Direct = 0.8686 - 0.4285 = 0.4401\n",
    " \n",
    "Approach 2\n",
    "\n",
    "Indirect = Loyalty_Visits * Visits_Sales = 0.107 * 4.1116 = 0.4399"
   ]
  },
  {
   "cell_type": "code",
   "execution_count": 15,
   "metadata": {},
   "outputs": [
    {
     "data": {
      "text/html": [
       "<table class=\"simpletable\">\n",
       "<tr>\n",
       "         <td></td>           <th>coef</th>     <th>std err</th>      <th>t</th>      <th>P>|t|</th>  <th>[0.025</th>    <th>0.975]</th>  \n",
       "</tr>\n",
       "<tr>\n",
       "  <th>Intercept</th>      <td>   95.6342</td> <td>   12.421</td> <td>    7.699</td> <td> 0.000</td> <td>   71.282</td> <td>  119.987</td>\n",
       "</tr>\n",
       "<tr>\n",
       "  <th>Loyalty</th>        <td>    0.7784</td> <td>    0.119</td> <td>    6.566</td> <td> 0.000</td> <td>    0.546</td> <td>    1.011</td>\n",
       "</tr>\n",
       "<tr>\n",
       "  <th>Price</th>          <td>   -7.6053</td> <td>    0.409</td> <td>  -18.593</td> <td> 0.000</td> <td>   -8.407</td> <td>   -6.803</td>\n",
       "</tr>\n",
       "<tr>\n",
       "  <th>Income</th>         <td>    6.3927</td> <td>    6.114</td> <td>    1.046</td> <td> 0.296</td> <td>   -5.593</td> <td>   18.379</td>\n",
       "</tr>\n",
       "<tr>\n",
       "  <th>Loyalty:Income</th> <td>    0.0538</td> <td>    0.050</td> <td>    1.087</td> <td> 0.277</td> <td>   -0.043</td> <td>    0.151</td>\n",
       "</tr>\n",
       "<tr>\n",
       "  <th>Price:Income</th>   <td>    0.3419</td> <td>    0.226</td> <td>    1.513</td> <td> 0.130</td> <td>   -0.101</td> <td>    0.785</td>\n",
       "</tr>\n",
       "<tr>\n",
       "  <th>Macro</th>          <td>   27.6566</td> <td>    0.937</td> <td>   29.515</td> <td> 0.000</td> <td>   25.819</td> <td>   29.494</td>\n",
       "</tr>\n",
       "</table>"
      ],
      "text/plain": [
       "<class 'statsmodels.iolib.table.SimpleTable'>"
      ]
     },
     "execution_count": 15,
     "metadata": {},
     "output_type": "execute_result"
    }
   ],
   "source": [
    "# Calculate \"Total\" effect with interactions\n",
    "model_total = smf.ols('Sales ~ (Loyalty + Price) * Income + Macro', data).fit().summary().tables[1]\n",
    "model_total"
   ]
  }
 ],
 "metadata": {
  "kernelspec": {
   "display_name": "Python 3 (ipykernel)",
   "language": "python",
   "name": "python3"
  },
  "language_info": {
   "codemirror_mode": {
    "name": "ipython",
    "version": 3
   },
   "file_extension": ".py",
   "mimetype": "text/x-python",
   "name": "python",
   "nbconvert_exporter": "python",
   "pygments_lexer": "ipython3",
   "version": "3.12.7"
  },
  "panel-cell-order": [
   "cf2fa3d9",
   "e25ddd8e",
   "b69a95e9",
   "ca564e58",
   "4400e501",
   "f7dfd3de"
  ]
 },
 "nbformat": 4,
 "nbformat_minor": 4
}
