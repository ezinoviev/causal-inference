{
 "cells": [
  {
   "cell_type": "markdown",
   "metadata": {},
   "source": [
    "# Causal Inference in Decision Intelligence – Part 14: Answering \"What-if\" questions"
   ]
  },
  {
   "cell_type": "markdown",
   "metadata": {},
   "source": [
    "Link to the article:  [Answering What-if Questions](https://www.linkedin.com/pulse/causal-inference-decision-intelligence-part-14-what-if-zinoviev-bh8ec)"
   ]
  },
  {
   "cell_type": "markdown",
   "metadata": {},
   "source": [
    "## Generate the data"
   ]
  },
  {
   "cell_type": "code",
   "execution_count": null,
   "metadata": {},
   "outputs": [],
   "source": [
    "# Check if dowhy is installed, and install it if not\n",
    "try:\n",
    "    import dowhy\n",
    "except ImportError:\n",
    "    import subprocess\n",
    "    import sys\n",
    "    print(\"Installing dowhy...\")\n",
    "    subprocess.check_call([sys.executable, \"-m\", \"pip\", \"install\", \"dowhy\"])\n",
    "    import dowhy"
   ]
  },
  {
   "cell_type": "code",
   "execution_count": 1,
   "metadata": {},
   "outputs": [],
   "source": [
    "from collections import OrderedDict\n",
    "import warnings\n",
    "\n",
    "import numpy as np\n",
    "import pandas as pd\n",
    "import networkx as nx\n",
    "\n",
    "import dowhy.gcm as gcm\n",
    "from dowhy.utils import plot\n",
    "\n",
    "from dowhy import CausalModel\n",
    "\n",
    "import statsmodels.formula.api as smf\n",
    "\n",
    "import matplotlib.pyplot as plt\n",
    "\n",
    "import warnings\n",
    "warnings.filterwarnings('ignore')\n",
    "\n",
    "plt.style.use('fivethirtyeight')"
   ]
  },
  {
   "cell_type": "code",
   "execution_count": 2,
   "metadata": {},
   "outputs": [
    {
     "data": {
      "text/html": [
       "<div>\n",
       "<style scoped>\n",
       "    .dataframe tbody tr th:only-of-type {\n",
       "        vertical-align: middle;\n",
       "    }\n",
       "\n",
       "    .dataframe tbody tr th {\n",
       "        vertical-align: top;\n",
       "    }\n",
       "\n",
       "    .dataframe thead th {\n",
       "        text-align: right;\n",
       "    }\n",
       "</style>\n",
       "<table border=\"1\" class=\"dataframe\">\n",
       "  <thead>\n",
       "    <tr style=\"text-align: right;\">\n",
       "      <th></th>\n",
       "      <th>Year</th>\n",
       "      <th>Id</th>\n",
       "      <th>Income</th>\n",
       "      <th>Macro</th>\n",
       "      <th>Price</th>\n",
       "      <th>Market</th>\n",
       "      <th>Visits</th>\n",
       "      <th>Sales</th>\n",
       "    </tr>\n",
       "  </thead>\n",
       "  <tbody>\n",
       "    <tr>\n",
       "      <th>51</th>\n",
       "      <td>2020</td>\n",
       "      <td>52</td>\n",
       "      <td>1</td>\n",
       "      <td>1</td>\n",
       "      <td>11.592328</td>\n",
       "      <td>71.577206</td>\n",
       "      <td>7.032273</td>\n",
       "      <td>70.604988</td>\n",
       "    </tr>\n",
       "    <tr>\n",
       "      <th>3582</th>\n",
       "      <td>2023</td>\n",
       "      <td>583</td>\n",
       "      <td>1</td>\n",
       "      <td>0</td>\n",
       "      <td>10.382522</td>\n",
       "      <td>83.363589</td>\n",
       "      <td>8.430654</td>\n",
       "      <td>59.308193</td>\n",
       "    </tr>\n",
       "    <tr>\n",
       "      <th>1130</th>\n",
       "      <td>2021</td>\n",
       "      <td>131</td>\n",
       "      <td>1</td>\n",
       "      <td>0</td>\n",
       "      <td>10.373959</td>\n",
       "      <td>83.608966</td>\n",
       "      <td>8.147304</td>\n",
       "      <td>55.085361</td>\n",
       "    </tr>\n",
       "    <tr>\n",
       "      <th>2927</th>\n",
       "      <td>2022</td>\n",
       "      <td>928</td>\n",
       "      <td>1</td>\n",
       "      <td>1</td>\n",
       "      <td>11.175317</td>\n",
       "      <td>73.532787</td>\n",
       "      <td>7.125739</td>\n",
       "      <td>69.324000</td>\n",
       "    </tr>\n",
       "    <tr>\n",
       "      <th>23</th>\n",
       "      <td>2020</td>\n",
       "      <td>24</td>\n",
       "      <td>1</td>\n",
       "      <td>1</td>\n",
       "      <td>11.020734</td>\n",
       "      <td>71.208528</td>\n",
       "      <td>7.699894</td>\n",
       "      <td>73.250583</td>\n",
       "    </tr>\n",
       "    <tr>\n",
       "      <th>3444</th>\n",
       "      <td>2023</td>\n",
       "      <td>445</td>\n",
       "      <td>3</td>\n",
       "      <td>0</td>\n",
       "      <td>10.199208</td>\n",
       "      <td>81.610936</td>\n",
       "      <td>8.890104</td>\n",
       "      <td>81.918829</td>\n",
       "    </tr>\n",
       "    <tr>\n",
       "      <th>1250</th>\n",
       "      <td>2021</td>\n",
       "      <td>251</td>\n",
       "      <td>3</td>\n",
       "      <td>0</td>\n",
       "      <td>10.080402</td>\n",
       "      <td>81.157260</td>\n",
       "      <td>8.391234</td>\n",
       "      <td>90.926518</td>\n",
       "    </tr>\n",
       "    <tr>\n",
       "      <th>2410</th>\n",
       "      <td>2022</td>\n",
       "      <td>411</td>\n",
       "      <td>3</td>\n",
       "      <td>1</td>\n",
       "      <td>12.040938</td>\n",
       "      <td>73.520657</td>\n",
       "      <td>7.711044</td>\n",
       "      <td>105.036159</td>\n",
       "    </tr>\n",
       "    <tr>\n",
       "      <th>1451</th>\n",
       "      <td>2021</td>\n",
       "      <td>452</td>\n",
       "      <td>1</td>\n",
       "      <td>0</td>\n",
       "      <td>9.687792</td>\n",
       "      <td>80.856476</td>\n",
       "      <td>8.187418</td>\n",
       "      <td>61.902019</td>\n",
       "    </tr>\n",
       "    <tr>\n",
       "      <th>1148</th>\n",
       "      <td>2021</td>\n",
       "      <td>149</td>\n",
       "      <td>2</td>\n",
       "      <td>0</td>\n",
       "      <td>9.959539</td>\n",
       "      <td>81.986081</td>\n",
       "      <td>7.272279</td>\n",
       "      <td>69.457665</td>\n",
       "    </tr>\n",
       "    <tr>\n",
       "      <th>1529</th>\n",
       "      <td>2021</td>\n",
       "      <td>530</td>\n",
       "      <td>1</td>\n",
       "      <td>0</td>\n",
       "      <td>9.355887</td>\n",
       "      <td>80.230209</td>\n",
       "      <td>8.189116</td>\n",
       "      <td>59.853415</td>\n",
       "    </tr>\n",
       "    <tr>\n",
       "      <th>1472</th>\n",
       "      <td>2021</td>\n",
       "      <td>473</td>\n",
       "      <td>1</td>\n",
       "      <td>0</td>\n",
       "      <td>9.916542</td>\n",
       "      <td>82.422841</td>\n",
       "      <td>8.615340</td>\n",
       "      <td>56.802698</td>\n",
       "    </tr>\n",
       "    <tr>\n",
       "      <th>17</th>\n",
       "      <td>2020</td>\n",
       "      <td>18</td>\n",
       "      <td>2</td>\n",
       "      <td>1</td>\n",
       "      <td>11.931270</td>\n",
       "      <td>72.092626</td>\n",
       "      <td>7.154717</td>\n",
       "      <td>84.617306</td>\n",
       "    </tr>\n",
       "    <tr>\n",
       "      <th>214</th>\n",
       "      <td>2020</td>\n",
       "      <td>215</td>\n",
       "      <td>1</td>\n",
       "      <td>1</td>\n",
       "      <td>12.064166</td>\n",
       "      <td>73.316023</td>\n",
       "      <td>7.135456</td>\n",
       "      <td>71.768888</td>\n",
       "    </tr>\n",
       "    <tr>\n",
       "      <th>3911</th>\n",
       "      <td>2023</td>\n",
       "      <td>912</td>\n",
       "      <td>3</td>\n",
       "      <td>0</td>\n",
       "      <td>9.876479</td>\n",
       "      <td>81.746354</td>\n",
       "      <td>8.385008</td>\n",
       "      <td>92.813507</td>\n",
       "    </tr>\n",
       "    <tr>\n",
       "      <th>3359</th>\n",
       "      <td>2023</td>\n",
       "      <td>360</td>\n",
       "      <td>3</td>\n",
       "      <td>0</td>\n",
       "      <td>9.501617</td>\n",
       "      <td>81.892056</td>\n",
       "      <td>8.174808</td>\n",
       "      <td>86.682263</td>\n",
       "    </tr>\n",
       "    <tr>\n",
       "      <th>3927</th>\n",
       "      <td>2023</td>\n",
       "      <td>928</td>\n",
       "      <td>1</td>\n",
       "      <td>0</td>\n",
       "      <td>9.813438</td>\n",
       "      <td>82.951816</td>\n",
       "      <td>8.730701</td>\n",
       "      <td>62.983332</td>\n",
       "    </tr>\n",
       "    <tr>\n",
       "      <th>3194</th>\n",
       "      <td>2023</td>\n",
       "      <td>195</td>\n",
       "      <td>2</td>\n",
       "      <td>0</td>\n",
       "      <td>9.931046</td>\n",
       "      <td>83.471437</td>\n",
       "      <td>7.739323</td>\n",
       "      <td>70.154032</td>\n",
       "    </tr>\n",
       "    <tr>\n",
       "      <th>2391</th>\n",
       "      <td>2022</td>\n",
       "      <td>392</td>\n",
       "      <td>2</td>\n",
       "      <td>1</td>\n",
       "      <td>13.114025</td>\n",
       "      <td>70.244093</td>\n",
       "      <td>7.378687</td>\n",
       "      <td>77.867145</td>\n",
       "    </tr>\n",
       "    <tr>\n",
       "      <th>2480</th>\n",
       "      <td>2022</td>\n",
       "      <td>481</td>\n",
       "      <td>2</td>\n",
       "      <td>1</td>\n",
       "      <td>12.317986</td>\n",
       "      <td>72.093467</td>\n",
       "      <td>7.406851</td>\n",
       "      <td>84.374887</td>\n",
       "    </tr>\n",
       "  </tbody>\n",
       "</table>\n",
       "</div>"
      ],
      "text/plain": [
       "      Year   Id  Income  Macro      Price     Market    Visits       Sales\n",
       "51    2020   52       1      1  11.592328  71.577206  7.032273   70.604988\n",
       "3582  2023  583       1      0  10.382522  83.363589  8.430654   59.308193\n",
       "1130  2021  131       1      0  10.373959  83.608966  8.147304   55.085361\n",
       "2927  2022  928       1      1  11.175317  73.532787  7.125739   69.324000\n",
       "23    2020   24       1      1  11.020734  71.208528  7.699894   73.250583\n",
       "3444  2023  445       3      0  10.199208  81.610936  8.890104   81.918829\n",
       "1250  2021  251       3      0  10.080402  81.157260  8.391234   90.926518\n",
       "2410  2022  411       3      1  12.040938  73.520657  7.711044  105.036159\n",
       "1451  2021  452       1      0   9.687792  80.856476  8.187418   61.902019\n",
       "1148  2021  149       2      0   9.959539  81.986081  7.272279   69.457665\n",
       "1529  2021  530       1      0   9.355887  80.230209  8.189116   59.853415\n",
       "1472  2021  473       1      0   9.916542  82.422841  8.615340   56.802698\n",
       "17    2020   18       2      1  11.931270  72.092626  7.154717   84.617306\n",
       "214   2020  215       1      1  12.064166  73.316023  7.135456   71.768888\n",
       "3911  2023  912       3      0   9.876479  81.746354  8.385008   92.813507\n",
       "3359  2023  360       3      0   9.501617  81.892056  8.174808   86.682263\n",
       "3927  2023  928       1      0   9.813438  82.951816  8.730701   62.983332\n",
       "3194  2023  195       2      0   9.931046  83.471437  7.739323   70.154032\n",
       "2391  2022  392       2      1  13.114025  70.244093  7.378687   77.867145\n",
       "2480  2022  481       2      1  12.317986  72.093467  7.406851   84.374887"
      ]
     },
     "execution_count": 2,
     "metadata": {},
     "output_type": "execute_result"
    }
   ],
   "source": [
    "np.random.seed(3)\n",
    "\n",
    "# Generate customers' Ids \n",
    "Id = pd.Series(range(1,1001))\n",
    "\n",
    "# Generate Income variable \n",
    "#Income = np.random.choice([\"Low\", \"Medium\", \"High\"], size=1000, p=[0.5, 0.35, 0.15])\n",
    "Income = np.random.choice([1, 2, 3], size=1000, p=[0.5, 0.35, 0.15])\n",
    "\n",
    "\n",
    "data = pd.DataFrame({\"Id\": Id, \"Income\": Income})\n",
    "#data[\"Income\"] = data.Income.replace({1: \"Low\", 2: \"Medium\", 3: \"High\"})\n",
    "\n",
    "# Generate dates \n",
    "Year = pd.Series(range(2020,2024))\n",
    "\n",
    "# Create the product of Ids and Years\n",
    "year = pd.DataFrame({'Year': Year})\n",
    "data = year.merge(data, how='cross')\n",
    "\n",
    "# Generate Macro variable \n",
    "data[\"Macro\"] = np.where(((data.Year==2022) | (data.Year==2020)), 1, 0)\n",
    "\n",
    "# Create Price variable \n",
    "data['Price'] = 10 + 2 * data.Macro + np.random.normal(loc=0, scale=0.5, size=4000) \n",
    "\n",
    "# Create Promo variable \n",
    "data['Market'] = 80 - 10 * data.Macro + np.random.normal(loc=2, scale=1, size=4000) \n",
    "data['Visits'] = 0.1 * data.Market + np.random.normal(loc=0, scale=0.5, size=4000) \n",
    "\n",
    "data['Sales'] = 80 + 28 * data.Macro + 14 * data.Income - 7 * data.Price + 4 * data.Visits + np.random.normal(loc=0, scale=5, size=4000)\n",
    "\n",
    "data.sample(20)"
   ]
  },
  {
   "cell_type": "markdown",
   "metadata": {},
   "source": [
    "## Build Graphical Causal Model (GCM)"
   ]
  },
  {
   "cell_type": "code",
   "execution_count": 3,
   "metadata": {},
   "outputs": [
    {
     "data": {
      "image/png": "[encoded data removed]",
      "text/plain": [
       "<Figure size 800x600 with 1 Axes>"
      ]
     },
     "metadata": {},
     "output_type": "display_data"
    }
   ],
   "source": [
    "# Create the true DAG\n",
    "G_part = nx.DiGraph([('Macro', 'Sales'), ('Macro', 'Price'), ('Macro', 'Market'), \n",
    "                  ('Income', 'Sales'), ('Price', 'Sales'), ('Market', 'Visits'), ('Visits', 'Sales')])\n",
    "plt.rcParams['font.size'] = 10\n",
    "plot(G_part, figure_size=[8, 6])"
   ]
  },
  {
   "cell_type": "code",
   "execution_count": 4,
   "metadata": {},
   "outputs": [],
   "source": [
    "# Build Structural causal model on top of the causal graph\n",
    "np.random.seed(3)\n",
    "causal_model = gcm.StructuralCausalModel(G_part)"
   ]
  },
  {
   "cell_type": "code",
   "execution_count": 5,
   "metadata": {},
   "outputs": [],
   "source": [
    "np.random.seed(3)\n",
    "# Assign causal mechanisms to each node\n",
    "auto_assignment_summary = gcm.auto.assign_causal_mechanisms(causal_model, data)"
   ]
  },
  {
   "cell_type": "code",
   "execution_count": 6,
   "metadata": {},
   "outputs": [
    {
     "name": "stderr",
     "output_type": "stream",
     "text": [
      "Fitting causal mechanism of node Visits: 100%|███████████████████████████████████████████| 6/6 [00:01<00:00,  5.85it/s]\n"
     ]
    }
   ],
   "source": [
    "# Fit the graphical causal model\n",
    "np.random.seed(3)\n",
    "gcm.fit(causal_model, data)"
   ]
  },
  {
   "cell_type": "markdown",
   "metadata": {},
   "source": [
    "## Simulating the impact of interventions"
   ]
  },
  {
   "cell_type": "code",
   "execution_count": 7,
   "metadata": {},
   "outputs": [
    {
     "name": "stdout",
     "output_type": "stream",
     "text": [
      "Average Treatment Effect: 0.43\n"
     ]
    }
   ],
   "source": [
    "# Estimate average causal effect of Marketing on sales\n",
    "np.random.seed(3)\n",
    "ate = gcm.average_causal_effect(causal_model,\n",
    "                         'Sales',\n",
    "                         interventions_alternative={'Market': lambda x: 78},\n",
    "                         interventions_reference={'Market': lambda x: 77},\n",
    "                         num_samples_to_draw=10000)\n",
    "\n",
    "print(f'Average Treatment Effect: {round(ate, 2)}')"
   ]
  },
  {
   "cell_type": "code",
   "execution_count": 8,
   "metadata": {},
   "outputs": [
    {
     "name": "stderr",
     "output_type": "stream",
     "text": [
      "Fitting causal mechanism of node Visits: 100%|███████████████████████████████████████████| 6/6 [00:00<00:00, 46.02it/s]\n",
      "Fitting causal mechanism of node Visits: 100%|███████████████████████████████████████████| 6/6 [00:00<00:00, 46.66it/s]\n",
      "Fitting causal mechanism of node Visits: 100%|███████████████████████████████████████████| 6/6 [00:00<00:00, 19.88it/s]\n",
      "Fitting causal mechanism of node Visits: 100%|███████████████████████████████████████████| 6/6 [00:00<00:00, 64.00it/s]\n",
      "Fitting causal mechanism of node Visits: 100%|███████████████████████████████████████████| 6/6 [00:00<00:00, 50.78it/s]\n",
      "Fitting causal mechanism of node Visits: 100%|███████████████████████████████████████████| 6/6 [00:00<00:00, 62.87it/s]\n",
      "Fitting causal mechanism of node Visits: 100%|███████████████████████████████████████████| 6/6 [00:00<00:00, 54.81it/s]\n",
      "Fitting causal mechanism of node Visits: 100%|███████████████████████████████████████████| 6/6 [00:00<00:00, 54.86it/s]\n",
      "Fitting causal mechanism of node Visits: 100%|███████████████████████████████████████████| 6/6 [00:00<00:00, 56.09it/s]\n",
      "Fitting causal mechanism of node Visits: 100%|███████████████████████████████████████████| 6/6 [00:00<00:00, 52.67it/s]\n",
      "Fitting causal mechanism of node Visits: 100%|███████████████████████████████████████████| 6/6 [00:00<00:00, 54.19it/s]\n",
      "Fitting causal mechanism of node Visits: 100%|███████████████████████████████████████████| 6/6 [00:00<00:00, 54.59it/s]\n",
      "Fitting causal mechanism of node Visits: 100%|███████████████████████████████████████████| 6/6 [00:00<00:00, 44.78it/s]\n",
      "Fitting causal mechanism of node Visits: 100%|███████████████████████████████████████████| 6/6 [00:00<00:00, 59.35it/s]\n",
      "Fitting causal mechanism of node Visits: 100%|███████████████████████████████████████████| 6/6 [00:00<00:00, 53.25it/s]\n",
      "Fitting causal mechanism of node Visits: 100%|███████████████████████████████████████████| 6/6 [00:00<00:00, 61.69it/s]\n",
      "Fitting causal mechanism of node Visits: 100%|███████████████████████████████████████████| 6/6 [00:00<00:00, 61.09it/s]\n",
      "Fitting causal mechanism of node Visits: 100%|███████████████████████████████████████████| 6/6 [00:00<00:00, 50.34it/s]\n",
      "Fitting causal mechanism of node Visits: 100%|███████████████████████████████████████████| 6/6 [00:00<00:00, 57.63it/s]\n",
      "Fitting causal mechanism of node Visits: 100%|███████████████████████████████████████████| 6/6 [00:00<00:00, 63.34it/s]\n",
      "Estimating bootstrap interval...: 100%|████████████████████████████████████████████████| 20/20 [00:04<00:00,  4.97it/s]\n"
     ]
    },
    {
     "name": "stdout",
     "output_type": "stream",
     "text": [
      "Average Treatment Effect: [0.42623125]\n",
      "Confidence interval for ATE: [[0.28263637 0.51039262]]\n"
     ]
    }
   ],
   "source": [
    "# Bootstrap confidence intervals for the Marketing effect \n",
    "np.random.seed(3)\n",
    "\n",
    "median, intervals = gcm.confidence_intervals(\n",
    "    gcm.fit_and_compute(gcm.average_causal_effect,\n",
    "                   causal_model,\n",
    "                   bootstrap_training_data=data,\n",
    "                   target_node='Sales',\n",
    "                   interventions_alternative={'Market': lambda x: 78},\n",
    "                   interventions_reference={'Market': lambda x: 77},\n",
    "                   num_samples_to_draw=10000))\n",
    "\n",
    "print(f'Average Treatment Effect: {median}')\n",
    "print(f'Confidence interval for ATE: {intervals}')"
   ]
  },
  {
   "cell_type": "code",
   "execution_count": 9,
   "metadata": {},
   "outputs": [
    {
     "name": "stdout",
     "output_type": "stream",
     "text": [
      "ATE of multiple interventions in Marketing and Price: -6.78\n"
     ]
    }
   ],
   "source": [
    "# Estimate average causal effects of Marketing and Price on sales\n",
    "np.random.seed(4)\n",
    "atem = gcm.average_causal_effect(causal_model,\n",
    "                         'Sales',\n",
    "                         interventions_alternative={'Market': lambda x: 78, 'Price': lambda x: 11},\n",
    "                         interventions_reference={'Market': lambda x: 77, 'Price': lambda x: 10},\n",
    "                         num_samples_to_draw=10000)\n",
    "\n",
    "print(f'ATE of multiple interventions in Marketing and Price: {round(atem, 2)}')"
   ]
  },
  {
   "cell_type": "markdown",
   "metadata": {},
   "source": [
    "## Computing Counterfactuals"
   ]
  },
  {
   "cell_type": "code",
   "execution_count": 10,
   "metadata": {},
   "outputs": [
    {
     "name": "stderr",
     "output_type": "stream",
     "text": [
      "Fitting causal mechanism of node Visits: 100%|███████████████████████████████████████████| 6/6 [00:00<00:00, 38.84it/s]\n"
     ]
    }
   ],
   "source": [
    "# Specify an invertible structural causal model\n",
    "causal_modeli = gcm.InvertibleStructuralCausalModel(G_part)\n",
    "gcm.auto.assign_causal_mechanisms(causal_modeli, data)\n",
    "gcm.fit(causal_modeli, data)"
   ]
  },
  {
   "cell_type": "code",
   "execution_count": 11,
   "metadata": {},
   "outputs": [
    {
     "data": {
      "text/html": [
       "<div>\n",
       "<style scoped>\n",
       "    .dataframe tbody tr th:only-of-type {\n",
       "        vertical-align: middle;\n",
       "    }\n",
       "\n",
       "    .dataframe tbody tr th {\n",
       "        vertical-align: top;\n",
       "    }\n",
       "\n",
       "    .dataframe thead th {\n",
       "        text-align: right;\n",
       "    }\n",
       "</style>\n",
       "<table border=\"1\" class=\"dataframe\">\n",
       "  <thead>\n",
       "    <tr style=\"text-align: right;\">\n",
       "      <th></th>\n",
       "      <th>Year</th>\n",
       "      <th>Id</th>\n",
       "      <th>Income</th>\n",
       "      <th>Macro</th>\n",
       "      <th>Price</th>\n",
       "      <th>Market</th>\n",
       "      <th>Visits</th>\n",
       "      <th>Sales</th>\n",
       "    </tr>\n",
       "  </thead>\n",
       "  <tbody>\n",
       "    <tr>\n",
       "      <th>3264</th>\n",
       "      <td>2023</td>\n",
       "      <td>265</td>\n",
       "      <td>2</td>\n",
       "      <td>0</td>\n",
       "      <td>9.106570</td>\n",
       "      <td>80.144263</td>\n",
       "      <td>8.500971</td>\n",
       "      <td>83.276480</td>\n",
       "    </tr>\n",
       "    <tr>\n",
       "      <th>2559</th>\n",
       "      <td>2022</td>\n",
       "      <td>560</td>\n",
       "      <td>2</td>\n",
       "      <td>1</td>\n",
       "      <td>12.295076</td>\n",
       "      <td>71.368780</td>\n",
       "      <td>5.956991</td>\n",
       "      <td>73.874477</td>\n",
       "    </tr>\n",
       "    <tr>\n",
       "      <th>15</th>\n",
       "      <td>2020</td>\n",
       "      <td>16</td>\n",
       "      <td>2</td>\n",
       "      <td>1</td>\n",
       "      <td>11.881020</td>\n",
       "      <td>71.337568</td>\n",
       "      <td>6.349982</td>\n",
       "      <td>76.706030</td>\n",
       "    </tr>\n",
       "    <tr>\n",
       "      <th>1872</th>\n",
       "      <td>2021</td>\n",
       "      <td>873</td>\n",
       "      <td>2</td>\n",
       "      <td>0</td>\n",
       "      <td>10.045392</td>\n",
       "      <td>81.187036</td>\n",
       "      <td>7.734394</td>\n",
       "      <td>60.102466</td>\n",
       "    </tr>\n",
       "  </tbody>\n",
       "</table>\n",
       "</div>"
      ],
      "text/plain": [
       "      Year   Id  Income  Macro      Price     Market    Visits      Sales\n",
       "3264  2023  265       2      0   9.106570  80.144263  8.500971  83.276480\n",
       "2559  2022  560       2      1  12.295076  71.368780  5.956991  73.874477\n",
       "15    2020   16       2      1  11.881020  71.337568  6.349982  76.706030\n",
       "1872  2021  873       2      0  10.045392  81.187036  7.734394  60.102466"
      ]
     },
     "execution_count": 11,
     "metadata": {},
     "output_type": "execute_result"
    }
   ],
   "source": [
    "# Select a random customer\n",
    "np.random.seed(4)\n",
    "data.sample(4)"
   ]
  },
  {
   "cell_type": "code",
   "execution_count": 12,
   "metadata": {},
   "outputs": [
    {
     "data": {
      "text/html": [
       "<div>\n",
       "<style scoped>\n",
       "    .dataframe tbody tr th:only-of-type {\n",
       "        vertical-align: middle;\n",
       "    }\n",
       "\n",
       "    .dataframe tbody tr th {\n",
       "        vertical-align: top;\n",
       "    }\n",
       "\n",
       "    .dataframe thead th {\n",
       "        text-align: right;\n",
       "    }\n",
       "</style>\n",
       "<table border=\"1\" class=\"dataframe\">\n",
       "  <thead>\n",
       "    <tr style=\"text-align: right;\">\n",
       "      <th></th>\n",
       "      <th>Macro</th>\n",
       "      <th>Income</th>\n",
       "      <th>Price</th>\n",
       "      <th>Market</th>\n",
       "      <th>Visits</th>\n",
       "      <th>Sales</th>\n",
       "    </tr>\n",
       "  </thead>\n",
       "  <tbody>\n",
       "    <tr>\n",
       "      <th>0</th>\n",
       "      <td>0</td>\n",
       "      <td>3</td>\n",
       "      <td>9.10657</td>\n",
       "      <td>80.144263</td>\n",
       "      <td>8.500971</td>\n",
       "      <td>97.492413</td>\n",
       "    </tr>\n",
       "  </tbody>\n",
       "</table>\n",
       "</div>"
      ],
      "text/plain": [
       "   Macro  Income    Price     Market    Visits      Sales\n",
       "0      0       3  9.10657  80.144263  8.500971  97.492413"
      ]
     },
     "execution_count": 12,
     "metadata": {},
     "output_type": "execute_result"
    }
   ],
   "source": [
    "# What would customer 3264 have spent if his income had increased from 2 to 3\n",
    "gcm.counterfactual_samples(\n",
    "    causal_modeli,\n",
    "    {'Income': lambda x: 3},\n",
    "    observed_data=pd.DataFrame(data=dict(Income=[2], Macro=[0], Price=[9.10657], Market=[80.144263], Visits=[8.500971], Sales=[83.27648])))"
   ]
  },
  {
   "cell_type": "code",
   "execution_count": 13,
   "metadata": {},
   "outputs": [
    {
     "data": {
      "text/html": [
       "<div>\n",
       "<style scoped>\n",
       "    .dataframe tbody tr th:only-of-type {\n",
       "        vertical-align: middle;\n",
       "    }\n",
       "\n",
       "    .dataframe tbody tr th {\n",
       "        vertical-align: top;\n",
       "    }\n",
       "\n",
       "    .dataframe thead th {\n",
       "        text-align: right;\n",
       "    }\n",
       "</style>\n",
       "<table border=\"1\" class=\"dataframe\">\n",
       "  <thead>\n",
       "    <tr style=\"text-align: right;\">\n",
       "      <th></th>\n",
       "      <th>Macro</th>\n",
       "      <th>Income</th>\n",
       "      <th>Price</th>\n",
       "      <th>Market</th>\n",
       "      <th>Visits</th>\n",
       "      <th>Sales</th>\n",
       "    </tr>\n",
       "  </thead>\n",
       "  <tbody>\n",
       "    <tr>\n",
       "      <th>0</th>\n",
       "      <td>0</td>\n",
       "      <td>2</td>\n",
       "      <td>9.10657</td>\n",
       "      <td>90</td>\n",
       "      <td>9.501655</td>\n",
       "      <td>87.360412</td>\n",
       "    </tr>\n",
       "  </tbody>\n",
       "</table>\n",
       "</div>"
      ],
      "text/plain": [
       "   Macro  Income    Price  Market    Visits      Sales\n",
       "0      0       2  9.10657      90  9.501655  87.360412"
      ]
     },
     "execution_count": 13,
     "metadata": {},
     "output_type": "execute_result"
    }
   ],
   "source": [
    "# What would customer 3264 have spent if the expenditures on Marketing had been icreased to $90\n",
    "gcm.counterfactual_samples(\n",
    "    causal_modeli,\n",
    "    {'Market': lambda x: 90},\n",
    "    observed_data=pd.DataFrame(data=dict(Income=[2], Macro=[0], Price=[9.10657], Market=[80.144263], Visits=[8.500971], Sales=[83.27648])))"
   ]
  },
  {
   "cell_type": "code",
   "execution_count": 14,
   "metadata": {},
   "outputs": [
    {
     "data": {
      "text/html": [
       "<div>\n",
       "<style scoped>\n",
       "    .dataframe tbody tr th:only-of-type {\n",
       "        vertical-align: middle;\n",
       "    }\n",
       "\n",
       "    .dataframe tbody tr th {\n",
       "        vertical-align: top;\n",
       "    }\n",
       "\n",
       "    .dataframe thead th {\n",
       "        text-align: right;\n",
       "    }\n",
       "</style>\n",
       "<table border=\"1\" class=\"dataframe\">\n",
       "  <thead>\n",
       "    <tr style=\"text-align: right;\">\n",
       "      <th></th>\n",
       "      <th>Macro</th>\n",
       "      <th>Income</th>\n",
       "      <th>Price</th>\n",
       "      <th>Market</th>\n",
       "      <th>Visits</th>\n",
       "      <th>Sales</th>\n",
       "    </tr>\n",
       "  </thead>\n",
       "  <tbody>\n",
       "    <tr>\n",
       "      <th>0</th>\n",
       "      <td>1</td>\n",
       "      <td>2</td>\n",
       "      <td>11.109344</td>\n",
       "      <td>70.1384</td>\n",
       "      <td>7.485044</td>\n",
       "      <td>93.1531</td>\n",
       "    </tr>\n",
       "  </tbody>\n",
       "</table>\n",
       "</div>"
      ],
      "text/plain": [
       "   Macro  Income      Price   Market    Visits    Sales\n",
       "0      1       2  11.109344  70.1384  7.485044  93.1531"
      ]
     },
     "execution_count": 14,
     "metadata": {},
     "output_type": "execute_result"
    }
   ],
   "source": [
    "# What would customer 3264 have spent if the macro environment had been favorable (1)\n",
    "gcm.counterfactual_samples(\n",
    "    causal_modeli,\n",
    "    {'Macro': lambda x: 1},\n",
    "    observed_data=pd.DataFrame(data=dict(Income=[2], Macro=[0], Price=[9.10657], Market=[80.144263], Visits=[8.500971], Sales=[83.27648])))"
   ]
  },
  {
   "cell_type": "code",
   "execution_count": 15,
   "metadata": {},
   "outputs": [
    {
     "data": {
      "text/html": [
       "<div>\n",
       "<style scoped>\n",
       "    .dataframe tbody tr th:only-of-type {\n",
       "        vertical-align: middle;\n",
       "    }\n",
       "\n",
       "    .dataframe tbody tr th {\n",
       "        vertical-align: top;\n",
       "    }\n",
       "\n",
       "    .dataframe thead th {\n",
       "        text-align: right;\n",
       "    }\n",
       "</style>\n",
       "<table border=\"1\" class=\"dataframe\">\n",
       "  <thead>\n",
       "    <tr style=\"text-align: right;\">\n",
       "      <th></th>\n",
       "      <th>Macro</th>\n",
       "      <th>Income</th>\n",
       "      <th>Price</th>\n",
       "      <th>Market</th>\n",
       "      <th>Visits</th>\n",
       "      <th>Sales</th>\n",
       "    </tr>\n",
       "  </thead>\n",
       "  <tbody>\n",
       "    <tr>\n",
       "      <th>0</th>\n",
       "      <td>1</td>\n",
       "      <td>2</td>\n",
       "      <td>12.048156</td>\n",
       "      <td>71.181173</td>\n",
       "      <td>6.718467</td>\n",
       "      <td>69.979086</td>\n",
       "    </tr>\n",
       "  </tbody>\n",
       "</table>\n",
       "</div>"
      ],
      "text/plain": [
       "   Macro  Income      Price     Market    Visits      Sales\n",
       "0      1       2  12.048156  71.181173  6.718467  69.979086"
      ]
     },
     "execution_count": 15,
     "metadata": {},
     "output_type": "execute_result"
    }
   ],
   "source": [
    "# What would customer 1872 have spent if the macro environment had been favorable (1)\n",
    "gcm.counterfactual_samples(\n",
    "    causal_modeli,\n",
    "    {'Macro': lambda x: 1},\n",
    "    observed_data=pd.DataFrame(data=dict(Income=[2], Macro=[0], Price=[10.045382], Market=[81.187036], Visits=[7.734394], Sales=[60.102466])))"
   ]
  }
 ],
 "metadata": {
  "kernelspec": {
   "display_name": "Python 3 (ipykernel)",
   "language": "python",
   "name": "python3"
  },
  "language_info": {
   "codemirror_mode": {
    "name": "ipython",
    "version": 3
   },
   "file_extension": ".py",
   "mimetype": "text/x-python",
   "name": "python",
   "nbconvert_exporter": "python",
   "pygments_lexer": "ipython3",
   "version": "3.12.7"
  }
 },
 "nbformat": 4,
 "nbformat_minor": 4
}
